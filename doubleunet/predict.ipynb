{
 "cells": [
  {
   "cell_type": "code",
   "execution_count": 1,
   "metadata": {},
   "outputs": [],
   "source": [
    "\n",
    "import os\n",
    "import numpy as np\n",
    "import cv2\n",
    "import tensorflow as tf\n",
    "from tensorflow.keras.models import load_model\n",
    "from tensorflow.keras.utils import CustomObjectScope\n",
    "from glob import glob\n",
    "from tqdm import tqdm\n",
    "from sklearn.model_selection import train_test_split\n",
    "from utils import *\n",
    "from train import tf_dataset\n",
    "from metrics import iou\n"
   ]
  },
  {
   "cell_type": "code",
   "execution_count": 2,
   "metadata": {},
   "outputs": [
    {
     "name": "stdout",
     "output_type": "stream",
     "text": [
      "563\n"
     ]
    },
    {
     "ename": "OSError",
     "evalue": "SavedModel file does not exist at: 5videos_20_da5.h5/{saved_model.pbtxt|saved_model.pb}",
     "output_type": "error",
     "traceback": [
      "\u001b[1;31m---------------------------------------------------------------------------\u001b[0m",
      "\u001b[1;31mOSError\u001b[0m                                   Traceback (most recent call last)",
      "\u001b[1;32m<ipython-input-2-d32c1aaa68cd>\u001b[0m in \u001b[0;36m<module>\u001b[1;34m\u001b[0m\n\u001b[0;32m     89\u001b[0m         \u001b[0mtest_steps\u001b[0m \u001b[1;33m+=\u001b[0m \u001b[1;36m1\u001b[0m\u001b[1;33m\u001b[0m\u001b[1;33m\u001b[0m\u001b[0m\n\u001b[0;32m     90\u001b[0m     \u001b[0mprint\u001b[0m\u001b[1;33m(\u001b[0m\u001b[0mtest_steps\u001b[0m\u001b[1;33m)\u001b[0m\u001b[1;33m\u001b[0m\u001b[1;33m\u001b[0m\u001b[0m\n\u001b[1;32m---> 91\u001b[1;33m     \u001b[0mmodel\u001b[0m \u001b[1;33m=\u001b[0m \u001b[0mload_model_weight\u001b[0m\u001b[1;33m(\u001b[0m\u001b[1;34m\"5videos_20_da5.h5\"\u001b[0m\u001b[1;33m)\u001b[0m\u001b[1;33m\u001b[0m\u001b[1;33m\u001b[0m\u001b[0m\n\u001b[0m\u001b[0;32m     92\u001b[0m     \u001b[0mmodel\u001b[0m\u001b[1;33m.\u001b[0m\u001b[0mevaluate\u001b[0m\u001b[1;33m(\u001b[0m\u001b[0mtest_dataset\u001b[0m\u001b[1;33m,\u001b[0m \u001b[0msteps\u001b[0m\u001b[1;33m=\u001b[0m\u001b[0mtest_steps\u001b[0m\u001b[1;33m)\u001b[0m\u001b[1;33m\u001b[0m\u001b[1;33m\u001b[0m\u001b[0m\n\u001b[0;32m     93\u001b[0m \u001b[1;33m\u001b[0m\u001b[0m\n",
      "\u001b[1;32mD:\\notes\\FYP\\python\\github-doubleunet\\utils.py\u001b[0m in \u001b[0;36mload_model_weight\u001b[1;34m(path)\u001b[0m\n\u001b[0;32m     54\u001b[0m         \u001b[1;34m'iou'\u001b[0m\u001b[1;33m:\u001b[0m \u001b[0miou\u001b[0m\u001b[1;33m\u001b[0m\u001b[1;33m\u001b[0m\u001b[0m\n\u001b[0;32m     55\u001b[0m         }):\n\u001b[1;32m---> 56\u001b[1;33m         \u001b[0mmodel\u001b[0m \u001b[1;33m=\u001b[0m \u001b[0mload_model\u001b[0m\u001b[1;33m(\u001b[0m\u001b[0mpath\u001b[0m\u001b[1;33m)\u001b[0m\u001b[1;33m\u001b[0m\u001b[1;33m\u001b[0m\u001b[0m\n\u001b[0m\u001b[0;32m     57\u001b[0m     \u001b[1;32mreturn\u001b[0m \u001b[0mmodel\u001b[0m\u001b[1;33m\u001b[0m\u001b[1;33m\u001b[0m\u001b[0m\n\u001b[0;32m     58\u001b[0m     \u001b[1;31m# model = build_model(256)\u001b[0m\u001b[1;33m\u001b[0m\u001b[1;33m\u001b[0m\u001b[1;33m\u001b[0m\u001b[0m\n",
      "\u001b[1;32md:\\anaconda\\envs\\tf2-segmentation3\\lib\\site-packages\\tensorflow\\python\\keras\\saving\\save.py\u001b[0m in \u001b[0;36mload_model\u001b[1;34m(filepath, custom_objects, compile, options)\u001b[0m\n\u001b[0;32m    184\u001b[0m     \u001b[0mfilepath\u001b[0m \u001b[1;33m=\u001b[0m \u001b[0mpath_to_string\u001b[0m\u001b[1;33m(\u001b[0m\u001b[0mfilepath\u001b[0m\u001b[1;33m)\u001b[0m\u001b[1;33m\u001b[0m\u001b[1;33m\u001b[0m\u001b[0m\n\u001b[0;32m    185\u001b[0m     \u001b[1;32mif\u001b[0m \u001b[0misinstance\u001b[0m\u001b[1;33m(\u001b[0m\u001b[0mfilepath\u001b[0m\u001b[1;33m,\u001b[0m \u001b[0msix\u001b[0m\u001b[1;33m.\u001b[0m\u001b[0mstring_types\u001b[0m\u001b[1;33m)\u001b[0m\u001b[1;33m:\u001b[0m\u001b[1;33m\u001b[0m\u001b[1;33m\u001b[0m\u001b[0m\n\u001b[1;32m--> 186\u001b[1;33m       \u001b[0mloader_impl\u001b[0m\u001b[1;33m.\u001b[0m\u001b[0mparse_saved_model\u001b[0m\u001b[1;33m(\u001b[0m\u001b[0mfilepath\u001b[0m\u001b[1;33m)\u001b[0m\u001b[1;33m\u001b[0m\u001b[1;33m\u001b[0m\u001b[0m\n\u001b[0m\u001b[0;32m    187\u001b[0m       \u001b[1;32mreturn\u001b[0m \u001b[0msaved_model_load\u001b[0m\u001b[1;33m.\u001b[0m\u001b[0mload\u001b[0m\u001b[1;33m(\u001b[0m\u001b[0mfilepath\u001b[0m\u001b[1;33m,\u001b[0m \u001b[0mcompile\u001b[0m\u001b[1;33m,\u001b[0m \u001b[0moptions\u001b[0m\u001b[1;33m)\u001b[0m\u001b[1;33m\u001b[0m\u001b[1;33m\u001b[0m\u001b[0m\n\u001b[0;32m    188\u001b[0m \u001b[1;33m\u001b[0m\u001b[0m\n",
      "\u001b[1;32md:\\anaconda\\envs\\tf2-segmentation3\\lib\\site-packages\\tensorflow\\python\\saved_model\\loader_impl.py\u001b[0m in \u001b[0;36mparse_saved_model\u001b[1;34m(export_dir)\u001b[0m\n\u001b[0;32m    111\u001b[0m                   (export_dir,\n\u001b[0;32m    112\u001b[0m                    \u001b[0mconstants\u001b[0m\u001b[1;33m.\u001b[0m\u001b[0mSAVED_MODEL_FILENAME_PBTXT\u001b[0m\u001b[1;33m,\u001b[0m\u001b[1;33m\u001b[0m\u001b[1;33m\u001b[0m\u001b[0m\n\u001b[1;32m--> 113\u001b[1;33m                    constants.SAVED_MODEL_FILENAME_PB))\n\u001b[0m\u001b[0;32m    114\u001b[0m \u001b[1;33m\u001b[0m\u001b[0m\n\u001b[0;32m    115\u001b[0m \u001b[1;33m\u001b[0m\u001b[0m\n",
      "\u001b[1;31mOSError\u001b[0m: SavedModel file does not exist at: 5videos_20_da5.h5/{saved_model.pbtxt|saved_model.pb}"
     ]
    }
   ],
   "source": [
    "\n",
    "def read_image(x):\n",
    "    image = cv2.imread(x, cv2.IMREAD_COLOR)\n",
    "    image = np.clip(image - np.median(image)+127, 0, 255)\n",
    "    image = image/255.0\n",
    "    image = image.astype(np.float32)\n",
    "    image = np.expand_dims(image, axis=0)\n",
    "    return image\n",
    "\n",
    "def read_mask(y):\n",
    "    mask = cv2.imread(y, cv2.IMREAD_GRAYSCALE)\n",
    "    mask = mask.astype(np.float32)\n",
    "    mask = mask/255.0\n",
    "    mask = np.expand_dims(mask, axis=-1)\n",
    "    return mask\n",
    "\n",
    "def mask_to_3d(mask):\n",
    "    mask = np.squeeze(mask)\n",
    "    mask = [mask, mask, mask]\n",
    "    mask = np.transpose(mask, (1, 2, 0))\n",
    "    return mask\n",
    "\n",
    "def parse(y_pred):\n",
    "    y_pred = np.expand_dims(y_pred, axis=-1)\n",
    "    y_pred = y_pred[..., -1]\n",
    "    y_pred = y_pred.astype(np.float32)\n",
    "    y_pred = np.expand_dims(y_pred, axis=-1)\n",
    "    return y_pred\n",
    "\n",
    "m = tf.keras.metrics.MeanIoU(num_classes=2)\n",
    "iou_ary = []\n",
    "dice_coef_ary=[]\n",
    "def evaluate_normal(model, x_data, y_data):\n",
    "    THRESHOLD = 0.5\n",
    "    total = []\n",
    "    for i, (x, y) in tqdm(enumerate(zip(x_data, y_data)), total=len(x_data)):\n",
    "        x = read_image(x)\n",
    "        y = read_mask(y)\n",
    "        _, h, w, _ = x.shape\n",
    "\n",
    "        #y_pred1 = parse(model.predict(x)[0][..., -2])\n",
    "        #y_pred2 = parse(model.predict(x)[0][..., -1])\n",
    "        y_pred3 = parse(model.predict(x)[0][..., -1])\n",
    "        y_pred3[y_pred3<THRESHOLD] = 0\n",
    "        y_pred3[y_pred3>THRESHOLD] = 1\n",
    "        m.reset_states()\n",
    "        m.update_state(y, y_pred3)\n",
    "        #print(\"y\",y)\n",
    "        #print(\"y_pred3\",y_pred3)\n",
    "        #print(\"num \",i,\" iou: \",m.result().numpy())\n",
    "        #iou_ary.append(m.result().numpy())\n",
    "        iou_ary.append(iou(y,y_pred3))\n",
    "        dice_coef_ary.append(dice_coef(y,y_pred3))\n",
    "\n",
    "        line = np.ones((h, 10, 3)) * 255.0\n",
    "        \n",
    "        all_images = [\n",
    "            x[0] * 255.0, line,\n",
    "            mask_to_3d(y) * 255.0, line,\n",
    "            mask_to_3d(y_pred3) * 255.0\n",
    "        ]\n",
    "        mask = np.concatenate(all_images, axis=1)\n",
    "\n",
    "        cv2.imwrite(f\"results/{i}.png\", mask)\n",
    "\n",
    "smooth = 1\n",
    "def dice_coef(y_true, y_pred):\n",
    "    y_true_f = tf.keras.layers.Flatten()(y_true)\n",
    "    y_pred_f = tf.keras.layers.Flatten()(y_pred)\n",
    "    intersection = tf.reduce_sum(y_true_f * y_pred_f)\n",
    "    return (2. * intersection + smooth) / (tf.reduce_sum(y_true_f) + tf.reduce_sum(y_pred_f) + smooth)\n",
    "\n",
    "def dice_loss(y_true, y_pred):\n",
    "    return 1.0 - dice_coef(y_true, y_pred)\n",
    "\n",
    "if __name__ == \"__main__\":\n",
    "    np.random.seed(42)\n",
    "    tf.random.set_seed(42)\n",
    "    create_dir(\"results/\")\n",
    "\n",
    "    batch_size = 4\n",
    "\n",
    "    test_path = \"data_comb1/test/\"\n",
    "    test_x = sorted(glob(os.path.join(test_path, \"img\", \"*.png\")))\n",
    "    test_y = sorted(glob(os.path.join(test_path, \"masks_machine\", \"*.png\")))\n",
    "    test_dataset = tf_dataset(test_x, test_y, batch=batch_size)\n",
    "\n",
    "    test_steps = (len(test_x)//batch_size)\n",
    "    if len(test_x) % batch_size != 0:\n",
    "        test_steps += 1\n",
    "    print(test_steps)\n",
    "    model = load_model_weight(\"5videos_20_da5.h5\")\n",
    "    model.evaluate(test_dataset, steps=test_steps)\n",
    "    \n",
    "    evaluate_normal(model, test_x, test_y)\n",
    "    print(\"iou_ary mean  \",np.mean(iou_ary))\n",
    "    print(\"dice_coef mean  \",np.mean(dice_coef_ary))"
   ]
  },
  {
   "cell_type": "code",
   "execution_count": null,
   "metadata": {},
   "outputs": [],
   "source": [
    "import  scipy.stats as st\n",
    "print(np.mean(iou_ary))\n",
    "\n",
    "print(st.sem(iou_ary))\n",
    "\n",
    "st.t.interval(0.95, len(iou_ary)-1, loc=np.mean(iou_ary), scale=st.sem(iou_ary))\n",
    "\n"
   ]
  },
  {
   "cell_type": "code",
   "execution_count": null,
   "metadata": {},
   "outputs": [],
   "source": [
    "st.t.interval(0.95, len(dice_coef_ary)-1, loc=np.mean(dice_coef_ary), scale=st.sem(dice_coef_ary))\n"
   ]
  },
  {
   "cell_type": "code",
   "execution_count": null,
   "metadata": {},
   "outputs": [],
   "source": []
  }
 ],
 "metadata": {
  "kernelspec": {
   "display_name": "Python 3",
   "language": "python",
   "name": "python3"
  },
  "language_info": {
   "codemirror_mode": {
    "name": "ipython",
    "version": 3
   },
   "file_extension": ".py",
   "mimetype": "text/x-python",
   "name": "python",
   "nbconvert_exporter": "python",
   "pygments_lexer": "ipython3",
   "version": "3.7.9"
  }
 },
 "nbformat": 4,
 "nbformat_minor": 4
}
