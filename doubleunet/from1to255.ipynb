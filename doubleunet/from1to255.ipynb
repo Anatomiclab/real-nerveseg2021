{
 "cells": [
  {
   "cell_type": "code",
   "execution_count": null,
   "metadata": {},
   "outputs": [],
   "source": [
    "import os\n",
    "import cv2\n",
    "from glob import glob\n",
    "import matplotlib.pyplot as plt\n",
    "\n"
   ]
  },
  {
   "cell_type": "code",
   "execution_count": null,
   "metadata": {},
   "outputs": [],
   "source": [
    "test_path = \"data/train/\"\n",
    "test_x = sorted(glob(os.path.join(test_path, \"masks_machine\", \"*.png\")))"
   ]
  },
  {
   "cell_type": "code",
   "execution_count": null,
   "metadata": {},
   "outputs": [],
   "source": [
    "for item in test_x:\n",
    "    img=cv2.imread(item)\n",
    "    img1=img*255\n",
    "    plt.imshow(img1)\n",
    "    plt.title('my picture')\n",
    "    plt.show()\n",
    "    cv2.imwrite(item,img1)"
   ]
  },
  {
   "cell_type": "code",
   "execution_count": null,
   "metadata": {},
   "outputs": [],
   "source": [
    "test_path = \"data/validation/\"\n",
    "test_x = sorted(glob(os.path.join(test_path, \"masks_machine\", \"*.png\")))\n",
    "for item in test_x:\n",
    "    img=cv2.imread(item)\n",
    "    img1=img*255\n",
    "    plt.imshow(img1)\n",
    "    plt.title('my picture')\n",
    "    plt.show()\n",
    "    cv2.imwrite(item,img1)"
   ]
  },
  {
   "cell_type": "code",
   "execution_count": null,
   "metadata": {
    "scrolled": true
   },
   "outputs": [],
   "source": [
    "test_path = \"data/test/\"\n",
    "test_x = sorted(glob(os.path.join(test_path, \"masks_machine\", \"*.png\")))\n",
    "for item in test_x:\n",
    "    img=cv2.imread(item)\n",
    "    img1=img*255\n",
    "    plt.imshow(img1)\n",
    "    plt.title('my picture')\n",
    "    plt.show()\n",
    "    cv2.imwrite(item,img1)"
   ]
  },
  {
   "cell_type": "code",
   "execution_count": null,
   "metadata": {},
   "outputs": [],
   "source": [
    "test_path = \"data_comb1/alldata_224_255/\"\n",
    "test_x = sorted(glob(os.path.join(test_path, \"masks_machine\", \"*.png\")))\n",
    "for item in test_x:\n",
    "    img=cv2.imread(item)\n",
    "    img1=img*255 \n",
    "    plt.imshow(img1)\n",
    "    plt.title('my picture')\n",
    "    plt.show()\n",
    "    cv2.imwrite(item,img1)"
   ]
  },
  {
   "cell_type": "code",
   "execution_count": null,
   "metadata": {},
   "outputs": [],
   "source": []
  }
 ],
 "metadata": {
  "kernelspec": {
   "display_name": "Python 3",
   "language": "python",
   "name": "python3"
  },
  "language_info": {
   "codemirror_mode": {
    "name": "ipython",
    "version": 3
   },
   "file_extension": ".py",
   "mimetype": "text/x-python",
   "name": "python",
   "nbconvert_exporter": "python",
   "pygments_lexer": "ipython3",
   "version": "3.7.9"
  }
 },
 "nbformat": 4,
 "nbformat_minor": 4
}
